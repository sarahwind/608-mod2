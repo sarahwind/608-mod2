{
 "cells": [
  {
   "cell_type": "code",
   "execution_count": 73,
   "id": "3d0a7788-8d69-47ca-a3ef-8681087e0472",
   "metadata": {},
   "outputs": [
    {
     "name": "stdin",
     "output_type": "stream",
     "text": [
      "Enter first integer:  10\n"
     ]
    }
   ],
   "source": [
    "number1 = int(input('Enter first integer: '))"
   ]
  },
  {
   "cell_type": "code",
   "execution_count": 131,
   "id": "c44d0ca5-7b08-4266-8409-7c6e3cfbfbbb",
   "metadata": {},
   "outputs": [
    {
     "name": "stdin",
     "output_type": "stream",
     "text": [
      "Enter second integer:  5\n"
     ]
    }
   ],
   "source": [
    "number2 = int(input('Enter second integer: '))"
   ]
  },
  {
   "cell_type": "code",
   "execution_count": 75,
   "id": "078869b1-4c00-459a-ada4-9d6c8a4b5908",
   "metadata": {},
   "outputs": [],
   "source": [
    "total = number1 + number2"
   ]
  },
  {
   "cell_type": "code",
   "execution_count": 76,
   "id": "9d0725d0-7fca-4be3-a011-649285c12f63",
   "metadata": {},
   "outputs": [
    {
     "name": "stdout",
     "output_type": "stream",
     "text": [
      "The sum of 10 and 5 is 15\n"
     ]
    }
   ],
   "source": [
    "print('The sum of', number1, 'and', number2, 'is', total)"
   ]
  },
  {
   "cell_type": "code",
   "execution_count": 77,
   "id": "cc6bfc21-04a4-4620-9f31-1349fb9871ca",
   "metadata": {},
   "outputs": [],
   "source": [
    "grade = 85"
   ]
  },
  {
   "cell_type": "code",
   "execution_count": 78,
   "id": "ea9069fb-86c0-4bf7-9a0f-52e8228217a4",
   "metadata": {},
   "outputs": [
    {
     "name": "stdout",
     "output_type": "stream",
     "text": [
      "Passed\n"
     ]
    }
   ],
   "source": [
    "if grade >= 60:\n",
    "    print ('Passed')"
   ]
  },
  {
   "cell_type": "code",
   "execution_count": 79,
   "id": "1fd38da4-6e61-4258-b3e8-c337a5c38161",
   "metadata": {},
   "outputs": [],
   "source": [
    "grade = 55"
   ]
  },
  {
   "cell_type": "code",
   "execution_count": 80,
   "id": "c242dbb6-76ed-4329-aa11-fc6c454670ad",
   "metadata": {},
   "outputs": [
    {
     "name": "stdout",
     "output_type": "stream",
     "text": [
      "Failed\n"
     ]
    }
   ],
   "source": [
    "print('Passed' if grade >= 60 else 'Failed')"
   ]
  },
  {
   "cell_type": "code",
   "execution_count": 81,
   "id": "20dfb0d6-639a-433a-88a2-d6cd6db300bd",
   "metadata": {},
   "outputs": [],
   "source": [
    "product = 7"
   ]
  },
  {
   "cell_type": "code",
   "execution_count": 82,
   "id": "d81cabfb-d4d5-4078-9217-0639daa6e775",
   "metadata": {},
   "outputs": [],
   "source": [
    "while product <= 1000:\n",
    "    product = product * 7"
   ]
  },
  {
   "cell_type": "code",
   "execution_count": 83,
   "id": "8086022e-183f-4110-8ad7-2a2e98d38f8b",
   "metadata": {},
   "outputs": [
    {
     "data": {
      "text/plain": [
       "2401"
      ]
     },
     "execution_count": 83,
     "metadata": {},
     "output_type": "execute_result"
    }
   ],
   "source": [
    "product"
   ]
  },
  {
   "cell_type": "code",
   "execution_count": 84,
   "id": "b7bcd33e-d9e0-4b52-8c47-c2a4bd647143",
   "metadata": {},
   "outputs": [],
   "source": [
    "total = 0"
   ]
  },
  {
   "cell_type": "code",
   "execution_count": 85,
   "id": "26048d2e-c0d1-42b4-92d2-e3356b53003a",
   "metadata": {},
   "outputs": [],
   "source": [
    "for number in range(1000001):\n",
    "    total = total + number"
   ]
  },
  {
   "cell_type": "code",
   "execution_count": 86,
   "id": "1147b97b-965c-41f3-87b6-b8f276006e0b",
   "metadata": {},
   "outputs": [
    {
     "data": {
      "text/plain": [
       "500000500000"
      ]
     },
     "execution_count": 86,
     "metadata": {},
     "output_type": "execute_result"
    }
   ],
   "source": [
    "total"
   ]
  },
  {
   "cell_type": "code",
   "execution_count": 87,
   "id": "bee62308-042c-4661-9980-34cda24d6665",
   "metadata": {},
   "outputs": [],
   "source": [
    "x = 12"
   ]
  },
  {
   "cell_type": "code",
   "execution_count": 88,
   "id": "2eb1baaa-e19c-455f-85fe-e8adb1ba9ffa",
   "metadata": {},
   "outputs": [],
   "source": [
    "x **= 2"
   ]
  },
  {
   "cell_type": "code",
   "execution_count": 89,
   "id": "322996e0-b6a7-47e6-a53b-403bab117147",
   "metadata": {},
   "outputs": [
    {
     "data": {
      "text/plain": [
       "144"
      ]
     },
     "execution_count": 89,
     "metadata": {},
     "output_type": "execute_result"
    }
   ],
   "source": [
    "x"
   ]
  },
  {
   "cell_type": "code",
   "execution_count": 90,
   "id": "f92c82df-ef6c-4a7d-af99-2f6f832fc48e",
   "metadata": {},
   "outputs": [],
   "source": [
    "# fig03_01.py"
   ]
  },
  {
   "cell_type": "code",
   "execution_count": 91,
   "id": "76a07db4-d11d-44d4-ab73-3353ee5cf886",
   "metadata": {},
   "outputs": [],
   "source": [
    "# initialization phase"
   ]
  },
  {
   "cell_type": "code",
   "execution_count": 92,
   "id": "5f2d6966-cc48-44a7-ae89-cda9b9dabb1d",
   "metadata": {},
   "outputs": [],
   "source": [
    "total = 0 #sum of grades"
   ]
  },
  {
   "cell_type": "code",
   "execution_count": 93,
   "id": "7ce7eadd-f718-43c1-84c9-de60da8f78fe",
   "metadata": {},
   "outputs": [],
   "source": [
    "grade_counter = 0"
   ]
  },
  {
   "cell_type": "code",
   "execution_count": 94,
   "id": "dc59be2f-6ad3-4511-b375-f4cc52129914",
   "metadata": {},
   "outputs": [],
   "source": [
    "grades = [98,76,71,87,83,90,57,79,82,94] #list of 10 grades"
   ]
  },
  {
   "cell_type": "code",
   "execution_count": 95,
   "id": "2260fb7a-7cd0-4b24-8305-d26df88abdf7",
   "metadata": {},
   "outputs": [],
   "source": [
    "#processing phase"
   ]
  },
  {
   "cell_type": "code",
   "execution_count": 96,
   "id": "a96da19f-d93d-4865-8b8d-ede51458ae09",
   "metadata": {},
   "outputs": [],
   "source": [
    "for grade in grades:\n",
    "    total += grade #add current grade to the running total\n",
    "    grade_counter += 1 #indicate that one more grade was processed"
   ]
  },
  {
   "cell_type": "code",
   "execution_count": 97,
   "id": "33086fdb-8eb0-45f4-9e29-7c71d724052c",
   "metadata": {},
   "outputs": [],
   "source": [
    "#termination phase"
   ]
  },
  {
   "cell_type": "code",
   "execution_count": 98,
   "id": "9399b5e1-0ca1-4b09-9b90-83464483abbc",
   "metadata": {},
   "outputs": [],
   "source": [
    "average = total / grade_counter"
   ]
  },
  {
   "cell_type": "code",
   "execution_count": 99,
   "id": "eff97f69-de9b-4354-8382-e4690862df7f",
   "metadata": {},
   "outputs": [
    {
     "name": "stdout",
     "output_type": "stream",
     "text": [
      "Class average is 81.7\n"
     ]
    }
   ],
   "source": [
    "print(f'Class average is {average}')"
   ]
  },
  {
   "cell_type": "code",
   "execution_count": 100,
   "id": "879f7f7f-0e01-49dc-8dbf-4906683abc03",
   "metadata": {},
   "outputs": [],
   "source": [
    "number1 = 7"
   ]
  },
  {
   "cell_type": "code",
   "execution_count": 101,
   "id": "7e064535-5d13-4601-adde-87a2f8339ccd",
   "metadata": {},
   "outputs": [],
   "source": [
    "number2 = 5"
   ]
  },
  {
   "cell_type": "code",
   "execution_count": 102,
   "id": "b3fdf684-9116-4db5-8655-0b8ea8d26242",
   "metadata": {},
   "outputs": [
    {
     "name": "stdout",
     "output_type": "stream",
     "text": [
      "7 times 5 is 35\n"
     ]
    }
   ],
   "source": [
    "print(f'{number1} times {number2} is {number1 * number2}')"
   ]
  },
  {
   "cell_type": "code",
   "execution_count": 103,
   "id": "0e32cc69-3895-47a4-82fd-095543b47243",
   "metadata": {},
   "outputs": [
    {
     "name": "stdout",
     "output_type": "stream",
     "text": [
      "5 6 7 8 9 "
     ]
    }
   ],
   "source": [
    "for number in range(5,10):\n",
    "    print(number, end=' ')"
   ]
  },
  {
   "cell_type": "code",
   "execution_count": 104,
   "id": "8507512f-1d6d-4d06-b356-9ba4c36c75a4",
   "metadata": {},
   "outputs": [
    {
     "name": "stdout",
     "output_type": "stream",
     "text": [
      "10 8 6 4 2 "
     ]
    }
   ],
   "source": [
    "for number in range(10,0,-2):\n",
    "    print(number, end=' ')"
   ]
  },
  {
   "cell_type": "code",
   "execution_count": 105,
   "id": "285aad79-2501-4d54-8810-8df14ee12405",
   "metadata": {},
   "outputs": [
    {
     "name": "stdout",
     "output_type": "stream",
     "text": [
      "0 1 2 3 4 5 6 7 8 9 "
     ]
    }
   ],
   "source": [
    "for number in range(100):\n",
    "    if number == 10:\n",
    "        break\n",
    "    print(number, end=' ')"
   ]
  },
  {
   "cell_type": "code",
   "execution_count": 106,
   "id": "b1d4d3d0-c50e-4d99-9a68-8e3a411157d2",
   "metadata": {},
   "outputs": [
    {
     "name": "stdout",
     "output_type": "stream",
     "text": [
      "0 1 2 3 4 6 7 8 9 "
     ]
    }
   ],
   "source": [
    "for number in range(10):\n",
    "    if number == 5:\n",
    "        continue\n",
    "    print(number, end=' ')"
   ]
  },
  {
   "cell_type": "code",
   "execution_count": 107,
   "id": "09c219c4-6cd1-4660-bb55-7197e8312b8e",
   "metadata": {},
   "outputs": [],
   "source": [
    "i = 1"
   ]
  },
  {
   "cell_type": "code",
   "execution_count": 108,
   "id": "3003f600-9109-4d36-a7c4-bb6afc1f33a3",
   "metadata": {},
   "outputs": [],
   "source": [
    "j = 2"
   ]
  },
  {
   "cell_type": "code",
   "execution_count": 109,
   "id": "cd7b0bd4-593d-4440-a7a0-508db9b6c332",
   "metadata": {},
   "outputs": [],
   "source": [
    "k = 3"
   ]
  },
  {
   "cell_type": "code",
   "execution_count": 110,
   "id": "0b7ae880-9b6b-47d8-96e5-24c50e3ab4b2",
   "metadata": {},
   "outputs": [],
   "source": [
    "m = 2"
   ]
  },
  {
   "cell_type": "code",
   "execution_count": 111,
   "id": "78270a46-7f14-42e0-9dd8-f54500905c4f",
   "metadata": {},
   "outputs": [
    {
     "data": {
      "text/plain": [
       "True"
      ]
     },
     "execution_count": 111,
     "metadata": {},
     "output_type": "execute_result"
    }
   ],
   "source": [
    "(i >= 1) and (j < 4)"
   ]
  },
  {
   "cell_type": "code",
   "execution_count": 112,
   "id": "e5b051ca-3b30-4958-8412-86fc17701b6f",
   "metadata": {},
   "outputs": [
    {
     "data": {
      "text/plain": [
       "False"
      ]
     },
     "execution_count": 112,
     "metadata": {},
     "output_type": "execute_result"
    }
   ],
   "source": [
    "(m <= 99) and (k < m)"
   ]
  },
  {
   "cell_type": "code",
   "execution_count": 113,
   "id": "82996f5c-7816-4c09-ae52-1bef179f9df5",
   "metadata": {},
   "outputs": [
    {
     "data": {
      "text/plain": [
       "True"
      ]
     },
     "execution_count": 113,
     "metadata": {},
     "output_type": "execute_result"
    }
   ],
   "source": [
    "(j >= i) or (k == m)"
   ]
  },
  {
   "cell_type": "code",
   "execution_count": 114,
   "id": "318d2374-60c8-4591-a315-e876fa093109",
   "metadata": {},
   "outputs": [
    {
     "data": {
      "text/plain": [
       "False"
      ]
     },
     "execution_count": 114,
     "metadata": {},
     "output_type": "execute_result"
    }
   ],
   "source": [
    "(k + m <j) or (3 - j >= k)"
   ]
  },
  {
   "cell_type": "code",
   "execution_count": 115,
   "id": "64663504-8095-4a3a-85ad-04a7981cbe31",
   "metadata": {},
   "outputs": [
    {
     "data": {
      "text/plain": [
       "False"
      ]
     },
     "execution_count": 115,
     "metadata": {},
     "output_type": "execute_result"
    }
   ],
   "source": [
    "not (k > m)"
   ]
  },
  {
   "cell_type": "code",
   "execution_count": null,
   "id": "6069e476-f4b1-44aa-8eb2-a6efc22a1ed2",
   "metadata": {},
   "outputs": [],
   "source": []
  },
  {
   "cell_type": "code",
   "execution_count": 116,
   "id": "392759a3-09a9-4f34-96d8-9fcec96a23e4",
   "metadata": {},
   "outputs": [],
   "source": [
    "values = [47,95,88,73,88,84]"
   ]
  },
  {
   "cell_type": "code",
   "execution_count": 117,
   "id": "f2eee225-1894-432b-9381-c3b67d12f75d",
   "metadata": {},
   "outputs": [
    {
     "data": {
      "text/plain": [
       "6"
      ]
     },
     "execution_count": 117,
     "metadata": {},
     "output_type": "execute_result"
    }
   ],
   "source": [
    "len(values)"
   ]
  },
  {
   "cell_type": "code",
   "execution_count": 118,
   "id": "4230ef6f-8ef8-424f-965d-d50ca6b5edf4",
   "metadata": {},
   "outputs": [
    {
     "data": {
      "text/plain": [
       "475"
      ]
     },
     "execution_count": 118,
     "metadata": {},
     "output_type": "execute_result"
    }
   ],
   "source": [
    "sum(values)"
   ]
  },
  {
   "cell_type": "code",
   "execution_count": 119,
   "id": "a5353b4c-09bb-4b99-a74f-2dd587b199e0",
   "metadata": {},
   "outputs": [
    {
     "data": {
      "text/plain": [
       "79.16666666666667"
      ]
     },
     "execution_count": 119,
     "metadata": {},
     "output_type": "execute_result"
    }
   ],
   "source": [
    "sum(values) / len(values)"
   ]
  },
  {
   "cell_type": "code",
   "execution_count": 120,
   "id": "1581c304-787a-4a5d-b199-d75a79bf4554",
   "metadata": {},
   "outputs": [],
   "source": [
    "import statistics"
   ]
  },
  {
   "cell_type": "code",
   "execution_count": 121,
   "id": "6ddfe4b3-bdb8-46e6-b71f-916468503b9e",
   "metadata": {},
   "outputs": [
    {
     "data": {
      "text/plain": [
       "79.16666666666667"
      ]
     },
     "execution_count": 121,
     "metadata": {},
     "output_type": "execute_result"
    }
   ],
   "source": [
    "statistics.mean(values)"
   ]
  },
  {
   "cell_type": "code",
   "execution_count": 122,
   "id": "fd763534-e5eb-405a-a6bd-0a598d2a6def",
   "metadata": {
    "tags": []
   },
   "outputs": [
    {
     "data": {
      "text/plain": [
       "86.0"
      ]
     },
     "execution_count": 122,
     "metadata": {},
     "output_type": "execute_result"
    }
   ],
   "source": [
    "statistics.median(values)"
   ]
  },
  {
   "cell_type": "code",
   "execution_count": 123,
   "id": "ab864003-5280-4175-9572-ee4f32d33407",
   "metadata": {},
   "outputs": [
    {
     "data": {
      "text/plain": [
       "88"
      ]
     },
     "execution_count": 123,
     "metadata": {},
     "output_type": "execute_result"
    }
   ],
   "source": [
    "statistics.mode(values)"
   ]
  },
  {
   "cell_type": "code",
   "execution_count": 124,
   "id": "1c2c9c5d-76e8-4d20-8f99-8b12b7dca83e",
   "metadata": {},
   "outputs": [],
   "source": [
    "values = [12,32,64,57,92]"
   ]
  },
  {
   "cell_type": "code",
   "execution_count": 125,
   "id": "899594a7-7319-4c3a-aad8-4693a2b9e426",
   "metadata": {},
   "outputs": [
    {
     "data": {
      "text/plain": [
       "5"
      ]
     },
     "execution_count": 125,
     "metadata": {},
     "output_type": "execute_result"
    }
   ],
   "source": [
    "len(values)"
   ]
  },
  {
   "cell_type": "code",
   "execution_count": 126,
   "id": "e5deecda-574f-429e-aab6-3cc8aaccdde5",
   "metadata": {},
   "outputs": [
    {
     "data": {
      "text/plain": [
       "257"
      ]
     },
     "execution_count": 126,
     "metadata": {},
     "output_type": "execute_result"
    }
   ],
   "source": [
    "sum(values)"
   ]
  },
  {
   "cell_type": "code",
   "execution_count": 127,
   "id": "0682e9dd-a556-4fbe-bff9-ab34cf0a13ad",
   "metadata": {},
   "outputs": [
    {
     "data": {
      "text/plain": [
       "51.4"
      ]
     },
     "execution_count": 127,
     "metadata": {},
     "output_type": "execute_result"
    }
   ],
   "source": [
    "statistics.mean(values)"
   ]
  },
  {
   "cell_type": "code",
   "execution_count": 128,
   "id": "4007e2d2-ba77-4bb3-a7cf-6d6a4521ca85",
   "metadata": {},
   "outputs": [
    {
     "data": {
      "text/plain": [
       "57"
      ]
     },
     "execution_count": 128,
     "metadata": {},
     "output_type": "execute_result"
    }
   ],
   "source": [
    "statistics.median(values)"
   ]
  },
  {
   "cell_type": "code",
   "execution_count": 129,
   "id": "3083507b-90fe-48ec-a33e-abb2481e845a",
   "metadata": {},
   "outputs": [
    {
     "data": {
      "text/plain": [
       "12"
      ]
     },
     "execution_count": 129,
     "metadata": {},
     "output_type": "execute_result"
    }
   ],
   "source": [
    "statistics.mode(values)"
   ]
  }
 ],
 "metadata": {
  "kernelspec": {
   "display_name": "Python 3 (ipykernel)",
   "language": "python",
   "name": "python3"
  },
  "language_info": {
   "codemirror_mode": {
    "name": "ipython",
    "version": 3
   },
   "file_extension": ".py",
   "mimetype": "text/x-python",
   "name": "python",
   "nbconvert_exporter": "python",
   "pygments_lexer": "ipython3",
   "version": "3.9.7"
  }
 },
 "nbformat": 4,
 "nbformat_minor": 5
}
